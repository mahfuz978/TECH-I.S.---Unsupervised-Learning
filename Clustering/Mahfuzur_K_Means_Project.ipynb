{
 "cells": [
  {
   "cell_type": "markdown",
   "metadata": {
    "colab_type": "text",
    "id": "view-in-github"
   },
   "source": [
    "<a href=\"https://colab.research.google.com/github/mahfuz978/TECH-I.S.---Unsupervised-Learning/blob/main/Clustering/Mahfuzur_K_Means_Project.ipynb\" target=\"_parent\"><img src=\"https://colab.research.google.com/assets/colab-badge.svg\" alt=\"Open In Colab\"/></a>"
   ]
  },
  {
   "cell_type": "markdown",
   "metadata": {
    "id": "nnKDCzoiwjd1"
   },
   "source": [
    "![Customer segmentation.png](https://miro.medium.com/max/700/1*rFATWK6tWBrDJ1o1rzEZ8w.png)"
   ]
  },
  {
   "cell_type": "markdown",
   "metadata": {
    "id": "F_ZicUF7wjd9"
   },
   "source": [
    "# Source of Data\n",
    "\n",
    "\n",
    "\n",
    "The San Francisco Controller's Office maintains a database of the salary and benefits \n",
    "\n",
    "paid to City employees since fiscal year 2013. This data is summarized and presented on \n",
    "\n",
    "the Employee Compensation  and is also \n",
    "\n",
    "available in CSV format in the directory. \n",
    "\n"
   ]
  },
  {
   "cell_type": "markdown",
   "metadata": {
    "id": "kBAS_xRzwjd9"
   },
   "source": [
    "## Overview of the problem\n",
    "\n",
    "\n",
    "\n",
    "\n",
    "### Description of Data : \n",
    "\n",
    "Each row is an employee, and has columns about employee's information like their job type,salary, hours of overtime,other benefits etc.Overall there are 22 columns.\n",
    "\n",
    "\n",
    "\n",
    "### Column definations:\n",
    "\n",
    "1. Year Type\tFiscal (July through June) or Calendar (January through December)\n",
    "\n",
    "2. Year\t        An accounting period of 12 months. The City and County of San Francisco                 operates on a fiscal year that begins on July 1 and ends on June 30 the                 following year. The Fiscal Year ending June 30, 2012 is represented as                   FY2011-2012.\n",
    "\n",
    "3. Organization Group Code\tOrg Group is a group of Departments. For example, the Public                             Protection Org Group includes departments such as the                                   Police, Fire, Adult Probation, District Attorney,                                       and Sheriff.\n",
    "\n",
    "4. Organization Group\t    Org Group is a group of Departments. For example, the Public                             Protection Org Group includes departments such as the                                   Police, Fire, Adult Probation, District Attorney, and                                   Sheriff.\n",
    "\n",
    "5. Department Code\t        Departments are the primary organizational unit used by the                             City and County of San Francisco. Examples include           \n",
    "7. Code\t                    Unions represent employees in collective bargaining                                     agreements. A job belongs to one union, although some jobs                               are unrepresented (usually temporarily).\n",
    "\n",
    "8. Union\t                Unions represent employees in collective bargaining                                     agreements. A job belongs to one union, although some jobs                               are unrepresented (usually temporarily).\n",
    "\n",
    "9. Job Family Code\t        Job Family combines similar Jobs into meaningful groups.\n",
    "\n",
    "10. Job Family\t            Job Family combines similar Jobs into meaningful groups.\n",
    "\n",
    "11. Job Code\t            Jobs are defined by the Human Resources classification unit.                             Examples include gardeners, police officers, and                                         accountants.\n",
    "\n",
    "12. Job\t                    Jobs are defined by the Human Resources classification unit.                             Examples include gardeners, police officers, and                                         accountants.\n",
    "\n",
    "13. Employee Identifier\t    Each distinct number in the “Employee Identifier” column                                 represents one employee. These identifying numbers are not                               meaningful but rather are randomly assigned for the purpose                             of building this dataset. The column does not appear on the                             Employee Compensation report hosted on openbook.sfgov.org,                               but that report does show one row for each employee.                                     Employee ID has been included here to allow users to                                     reconstruct the original report. Note that each employee’s                               identifier will change each time this dataset is updated, so                             comparisons by employee across multiple versions of the                                 dataset are not possible.\n",
    "\n",
    "14. Salaries\t            Normal salaries paid to permanent or temporary City                                     employees.\n",
    "\n",
    "\n",
    "15. Overtime\t            Amounts paid to City employees working in excess of 40 hours                             per week.\n",
    "\n",
    "16. Other Salaries\t        Various irregular payments made to City employees including                             premium pay, incentive pay, or other one-time payments.\n",
    "\n",
    "17. Total Salary\t        The sum of all salaries paid to City employees.\n",
    "\n",
    "18. Retirement\t            City contributions to employee retirement plans.\n",
    "\n",
    "19. Health and Dental\t    City-paid premiums to health and dental insurance plans                                 covering City employees. To protect confidentiality as                                   legally required, pro-rated citywide averages are presented                             in lieu of employee-specific health and dental benefits.\n",
    "\n",
    "20. Other Benefits\t        Mandatory benefits paid on behalf of employees, such as                                 Social Security (FICA and Medicare) contributions,                                       unemployment insurance premiums, and minor discretionary                                 benefits not included in the above categories.\n",
    "\n",
    "21. Total Benefits\t        The sum of all benefits paid to City employees.\n",
    "\n",
    "22. Total Compensation\t    The sum of all salaries and benefits paid to City employees.\n",
    "\n",
    "  \n"
   ]
  },
  {
   "cell_type": "markdown",
   "metadata": {
    "id": "ASZv8bm4wjd-"
   },
   "source": [
    "![Customer segmentation.png](https://miro.medium.com/max/700/1*jg90VC_It42Cq0KZO6JQ3A.png)"
   ]
  },
  {
   "cell_type": "markdown",
   "metadata": {
    "id": "esm3n1AOwjd-"
   },
   "source": [
    "# Try answering the below questions to stay on the right track for solving the assignment."
   ]
  },
  {
   "cell_type": "markdown",
   "metadata": {
    "id": "mp4858Juwjd_"
   },
   "source": [
    "###  Do you need to reduce the number of columns?"
   ]
  },
  {
   "cell_type": "markdown",
   "metadata": {
    "id": "jF43hmRhwjd_"
   },
   "source": [
    "###  Is your data clean?"
   ]
  },
  {
   "cell_type": "markdown",
   "metadata": {
    "id": "GsYWCcotwjd_"
   },
   "source": [
    "### What all parameters do we need to give to our clustering algorithm?"
   ]
  },
  {
   "cell_type": "markdown",
   "metadata": {
    "id": "o9fY5zwiwjd_"
   },
   "source": [
    "### How can we get these parameters?"
   ]
  },
  {
   "cell_type": "markdown",
   "metadata": {
    "id": "7FrXZM2twjd_"
   },
   "source": [
    "### Does your data has some interesting insights?"
   ]
  },
  {
   "cell_type": "markdown",
   "metadata": {
    "id": "ZYPGIKUPwjeA"
   },
   "source": [
    "### Objective of Problem :\n",
    "\n",
    "You have to fit the data to a clustering model.\n",
    "\n",
    "Find the number of clusters for the data.\n",
    "\n",
    "Try fitting the model to both the clustering algorithms you have learnt,K-Means and Hierarchical clustering.\n",
    "\n",
    "Which one suits this data better?\n",
    "\n",
    "Your model should help the State authorities/Policy makers to understand how they can improve on their policies for employee benefits.\n"
   ]
  },
  {
   "cell_type": "markdown",
   "metadata": {
    "id": "qpQqFRfmwjeA"
   },
   "source": [
    "# You are good to GO!!"
   ]
  },
  {
   "cell_type": "code",
   "execution_count": 1,
   "metadata": {},
   "outputs": [],
   "source": [
    "from pylab import rcParams\n",
    "from sklearn.cluster import AgglomerativeClustering\n",
    "import sklearn.metrics as sm"
   ]
  },
  {
   "cell_type": "code",
   "execution_count": 2,
   "metadata": {},
   "outputs": [],
   "source": [
    "import pandas as pd\n",
    "import numpy as np\n",
    "import matplotlib.pyplot as plt\n",
    "import seaborn as sns\n",
    "%matplotlib inline"
   ]
  },
  {
   "cell_type": "code",
   "execution_count": 3,
   "metadata": {},
   "outputs": [],
   "source": [
    "import scipy\n",
    "from scipy.cluster.hierarchy import dendrogram,linkage,fcluster,cophenet\n",
    "from scipy.spatial.distance import pdist"
   ]
  },
  {
   "cell_type": "code",
   "execution_count": 4,
   "metadata": {},
   "outputs": [
    {
     "data": {
      "text/html": [
       "<div>\n",
       "<style scoped>\n",
       "    .dataframe tbody tr th:only-of-type {\n",
       "        vertical-align: middle;\n",
       "    }\n",
       "\n",
       "    .dataframe tbody tr th {\n",
       "        vertical-align: top;\n",
       "    }\n",
       "\n",
       "    .dataframe thead th {\n",
       "        text-align: right;\n",
       "    }\n",
       "</style>\n",
       "<table border=\"1\" class=\"dataframe\">\n",
       "  <thead>\n",
       "    <tr style=\"text-align: right;\">\n",
       "      <th></th>\n",
       "      <th>Organization Group Code</th>\n",
       "      <th>Job Family Code</th>\n",
       "      <th>Job Code</th>\n",
       "      <th>Year Type</th>\n",
       "      <th>Year</th>\n",
       "      <th>Organization Group</th>\n",
       "      <th>Department Code</th>\n",
       "      <th>Department</th>\n",
       "      <th>Union Code</th>\n",
       "      <th>Union</th>\n",
       "      <th>...</th>\n",
       "      <th>Employee Identifier</th>\n",
       "      <th>Salaries</th>\n",
       "      <th>Overtime</th>\n",
       "      <th>Other Salaries</th>\n",
       "      <th>Total Salary</th>\n",
       "      <th>Retirement</th>\n",
       "      <th>Health and Dental</th>\n",
       "      <th>Other Benefits</th>\n",
       "      <th>Total Benefits</th>\n",
       "      <th>Total Compensation</th>\n",
       "    </tr>\n",
       "  </thead>\n",
       "  <tbody>\n",
       "    <tr>\n",
       "      <th>0</th>\n",
       "      <td>1</td>\n",
       "      <td>1000</td>\n",
       "      <td>1021</td>\n",
       "      <td>Calendar</td>\n",
       "      <td>2013</td>\n",
       "      <td>Public Protection</td>\n",
       "      <td>ADP</td>\n",
       "      <td>ADP Adult Probation</td>\n",
       "      <td>21.0</td>\n",
       "      <td>Prof &amp; Tech Engineers - Miscellaneous, Local 21</td>\n",
       "      <td>...</td>\n",
       "      <td>37730</td>\n",
       "      <td>57534.65</td>\n",
       "      <td>0.0</td>\n",
       "      <td>0.00</td>\n",
       "      <td>57534.65</td>\n",
       "      <td>11253.16</td>\n",
       "      <td>11961.34</td>\n",
       "      <td>4532.63</td>\n",
       "      <td>27747.13</td>\n",
       "      <td>85281.78</td>\n",
       "    </tr>\n",
       "    <tr>\n",
       "      <th>1</th>\n",
       "      <td>1</td>\n",
       "      <td>1000</td>\n",
       "      <td>1023</td>\n",
       "      <td>Calendar</td>\n",
       "      <td>2013</td>\n",
       "      <td>Public Protection</td>\n",
       "      <td>ADP</td>\n",
       "      <td>ADP Adult Probation</td>\n",
       "      <td>21.0</td>\n",
       "      <td>Prof &amp; Tech Engineers - Miscellaneous, Local 21</td>\n",
       "      <td>...</td>\n",
       "      <td>26574</td>\n",
       "      <td>57678.50</td>\n",
       "      <td>0.0</td>\n",
       "      <td>0.00</td>\n",
       "      <td>57678.50</td>\n",
       "      <td>10284.88</td>\n",
       "      <td>7176.80</td>\n",
       "      <td>4755.14</td>\n",
       "      <td>22216.82</td>\n",
       "      <td>79895.32</td>\n",
       "    </tr>\n",
       "    <tr>\n",
       "      <th>2</th>\n",
       "      <td>1</td>\n",
       "      <td>1000</td>\n",
       "      <td>1031</td>\n",
       "      <td>Calendar</td>\n",
       "      <td>2013</td>\n",
       "      <td>Public Protection</td>\n",
       "      <td>ADP</td>\n",
       "      <td>ADP Adult Probation</td>\n",
       "      <td>21.0</td>\n",
       "      <td>Prof &amp; Tech Engineers - Miscellaneous, Local 21</td>\n",
       "      <td>...</td>\n",
       "      <td>8148</td>\n",
       "      <td>63532.93</td>\n",
       "      <td>0.0</td>\n",
       "      <td>0.00</td>\n",
       "      <td>63532.93</td>\n",
       "      <td>12495.83</td>\n",
       "      <td>12918.24</td>\n",
       "      <td>4702.71</td>\n",
       "      <td>30116.78</td>\n",
       "      <td>93649.71</td>\n",
       "    </tr>\n",
       "    <tr>\n",
       "      <th>3</th>\n",
       "      <td>1</td>\n",
       "      <td>1000</td>\n",
       "      <td>1054</td>\n",
       "      <td>Calendar</td>\n",
       "      <td>2013</td>\n",
       "      <td>Public Protection</td>\n",
       "      <td>ADP</td>\n",
       "      <td>ADP Adult Probation</td>\n",
       "      <td>21.0</td>\n",
       "      <td>Prof &amp; Tech Engineers - Miscellaneous, Local 21</td>\n",
       "      <td>...</td>\n",
       "      <td>27436</td>\n",
       "      <td>101274.51</td>\n",
       "      <td>0.0</td>\n",
       "      <td>-7058.59</td>\n",
       "      <td>94215.92</td>\n",
       "      <td>19644.45</td>\n",
       "      <td>12918.24</td>\n",
       "      <td>7458.76</td>\n",
       "      <td>40021.45</td>\n",
       "      <td>134237.37</td>\n",
       "    </tr>\n",
       "    <tr>\n",
       "      <th>4</th>\n",
       "      <td>1</td>\n",
       "      <td>1000</td>\n",
       "      <td>1062</td>\n",
       "      <td>Calendar</td>\n",
       "      <td>2013</td>\n",
       "      <td>Public Protection</td>\n",
       "      <td>ADP</td>\n",
       "      <td>ADP Adult Probation</td>\n",
       "      <td>21.0</td>\n",
       "      <td>Prof &amp; Tech Engineers - Miscellaneous, Local 21</td>\n",
       "      <td>...</td>\n",
       "      <td>37730</td>\n",
       "      <td>5084.00</td>\n",
       "      <td>0.0</td>\n",
       "      <td>0.00</td>\n",
       "      <td>5084.00</td>\n",
       "      <td>1083.90</td>\n",
       "      <td>956.91</td>\n",
       "      <td>387.50</td>\n",
       "      <td>2428.31</td>\n",
       "      <td>7512.31</td>\n",
       "    </tr>\n",
       "  </tbody>\n",
       "</table>\n",
       "<p>5 rows × 22 columns</p>\n",
       "</div>"
      ],
      "text/plain": [
       "   Organization Group Code Job Family Code Job Code Year Type  Year  \\\n",
       "0                        1            1000     1021  Calendar  2013   \n",
       "1                        1            1000     1023  Calendar  2013   \n",
       "2                        1            1000     1031  Calendar  2013   \n",
       "3                        1            1000     1054  Calendar  2013   \n",
       "4                        1            1000     1062  Calendar  2013   \n",
       "\n",
       "  Organization Group Department Code           Department  Union Code  \\\n",
       "0  Public Protection             ADP  ADP Adult Probation        21.0   \n",
       "1  Public Protection             ADP  ADP Adult Probation        21.0   \n",
       "2  Public Protection             ADP  ADP Adult Probation        21.0   \n",
       "3  Public Protection             ADP  ADP Adult Probation        21.0   \n",
       "4  Public Protection             ADP  ADP Adult Probation        21.0   \n",
       "\n",
       "                                             Union  ... Employee Identifier  \\\n",
       "0  Prof & Tech Engineers - Miscellaneous, Local 21  ...               37730   \n",
       "1  Prof & Tech Engineers - Miscellaneous, Local 21  ...               26574   \n",
       "2  Prof & Tech Engineers - Miscellaneous, Local 21  ...                8148   \n",
       "3  Prof & Tech Engineers - Miscellaneous, Local 21  ...               27436   \n",
       "4  Prof & Tech Engineers - Miscellaneous, Local 21  ...               37730   \n",
       "\n",
       "    Salaries  Overtime  Other Salaries  Total Salary  Retirement  \\\n",
       "0   57534.65       0.0            0.00      57534.65    11253.16   \n",
       "1   57678.50       0.0            0.00      57678.50    10284.88   \n",
       "2   63532.93       0.0            0.00      63532.93    12495.83   \n",
       "3  101274.51       0.0        -7058.59      94215.92    19644.45   \n",
       "4    5084.00       0.0            0.00       5084.00     1083.90   \n",
       "\n",
       "   Health and Dental  Other Benefits  Total Benefits  Total Compensation  \n",
       "0           11961.34         4532.63        27747.13            85281.78  \n",
       "1            7176.80         4755.14        22216.82            79895.32  \n",
       "2           12918.24         4702.71        30116.78            93649.71  \n",
       "3           12918.24         7458.76        40021.45           134237.37  \n",
       "4             956.91          387.50         2428.31             7512.31  \n",
       "\n",
       "[5 rows x 22 columns]"
      ]
     },
     "execution_count": 4,
     "metadata": {},
     "output_type": "execute_result"
    }
   ],
   "source": [
    "df = pd.read_csv('employee-compensation.csv')\n",
    "df.head()"
   ]
  },
  {
   "cell_type": "code",
   "execution_count": 5,
   "metadata": {},
   "outputs": [
    {
     "data": {
      "text/plain": [
       "Organization Group Code      0\n",
       "Job Family Code              0\n",
       "Job Code                     0\n",
       "Year Type                    0\n",
       "Year                         0\n",
       "Organization Group           0\n",
       "Department Code              2\n",
       "Department                   2\n",
       "Union Code                 351\n",
       "Union                      351\n",
       "Job Family                   0\n",
       "Job                          5\n",
       "Employee Identifier          0\n",
       "Salaries                     0\n",
       "Overtime                     0\n",
       "Other Salaries               0\n",
       "Total Salary                 0\n",
       "Retirement                   0\n",
       "Health and Dental            0\n",
       "Other Benefits               0\n",
       "Total Benefits               0\n",
       "Total Compensation           0\n",
       "dtype: int64"
      ]
     },
     "execution_count": 5,
     "metadata": {},
     "output_type": "execute_result"
    }
   ],
   "source": [
    "df.isnull().sum()"
   ]
  },
  {
   "cell_type": "code",
   "execution_count": 6,
   "metadata": {},
   "outputs": [
    {
     "data": {
      "text/plain": [
       "(683277, 22)"
      ]
     },
     "execution_count": 6,
     "metadata": {},
     "output_type": "execute_result"
    }
   ],
   "source": [
    "df.shape"
   ]
  },
  {
   "cell_type": "code",
   "execution_count": 7,
   "metadata": {},
   "outputs": [],
   "source": [
    "df = df.dropna()"
   ]
  },
  {
   "cell_type": "code",
   "execution_count": 8,
   "metadata": {},
   "outputs": [
    {
     "data": {
      "text/plain": [
       "Organization Group Code    0\n",
       "Job Family Code            0\n",
       "Job Code                   0\n",
       "Year Type                  0\n",
       "Year                       0\n",
       "Organization Group         0\n",
       "Department Code            0\n",
       "Department                 0\n",
       "Union Code                 0\n",
       "Union                      0\n",
       "Job Family                 0\n",
       "Job                        0\n",
       "Employee Identifier        0\n",
       "Salaries                   0\n",
       "Overtime                   0\n",
       "Other Salaries             0\n",
       "Total Salary               0\n",
       "Retirement                 0\n",
       "Health and Dental          0\n",
       "Other Benefits             0\n",
       "Total Benefits             0\n",
       "Total Compensation         0\n",
       "dtype: int64"
      ]
     },
     "execution_count": 8,
     "metadata": {},
     "output_type": "execute_result"
    }
   ],
   "source": [
    "df.isnull().sum()"
   ]
  },
  {
   "cell_type": "code",
   "execution_count": 9,
   "metadata": {},
   "outputs": [
    {
     "data": {
      "text/plain": [
       "Index(['Organization Group Code', 'Job Family Code', 'Job Code', 'Year Type',\n",
       "       'Year', 'Organization Group', 'Department Code', 'Department',\n",
       "       'Union Code', 'Union', 'Job Family', 'Job', 'Employee Identifier',\n",
       "       'Salaries', 'Overtime', 'Other Salaries', 'Total Salary', 'Retirement',\n",
       "       'Health and Dental', 'Other Benefits', 'Total Benefits',\n",
       "       'Total Compensation'],\n",
       "      dtype='object')"
      ]
     },
     "execution_count": 9,
     "metadata": {},
     "output_type": "execute_result"
    }
   ],
   "source": [
    "df.columns"
   ]
  },
  {
   "cell_type": "code",
   "execution_count": 10,
   "metadata": {},
   "outputs": [
    {
     "data": {
      "text/html": [
       "<div>\n",
       "<style scoped>\n",
       "    .dataframe tbody tr th:only-of-type {\n",
       "        vertical-align: middle;\n",
       "    }\n",
       "\n",
       "    .dataframe tbody tr th {\n",
       "        vertical-align: top;\n",
       "    }\n",
       "\n",
       "    .dataframe thead th {\n",
       "        text-align: right;\n",
       "    }\n",
       "</style>\n",
       "<table border=\"1\" class=\"dataframe\">\n",
       "  <thead>\n",
       "    <tr style=\"text-align: right;\">\n",
       "      <th></th>\n",
       "      <th>Job Family Code</th>\n",
       "      <th>Job Code</th>\n",
       "      <th>Year Type</th>\n",
       "      <th>Organization Group</th>\n",
       "      <th>Department Code</th>\n",
       "      <th>Department</th>\n",
       "      <th>Union</th>\n",
       "      <th>Job Family</th>\n",
       "      <th>Job</th>\n",
       "    </tr>\n",
       "  </thead>\n",
       "  <tbody>\n",
       "    <tr>\n",
       "      <th>0</th>\n",
       "      <td>1000</td>\n",
       "      <td>1021</td>\n",
       "      <td>Calendar</td>\n",
       "      <td>Public Protection</td>\n",
       "      <td>ADP</td>\n",
       "      <td>ADP Adult Probation</td>\n",
       "      <td>Prof &amp; Tech Engineers - Miscellaneous, Local 21</td>\n",
       "      <td>Information Systems</td>\n",
       "      <td>IS Administrator 1</td>\n",
       "    </tr>\n",
       "    <tr>\n",
       "      <th>1</th>\n",
       "      <td>1000</td>\n",
       "      <td>1023</td>\n",
       "      <td>Calendar</td>\n",
       "      <td>Public Protection</td>\n",
       "      <td>ADP</td>\n",
       "      <td>ADP Adult Probation</td>\n",
       "      <td>Prof &amp; Tech Engineers - Miscellaneous, Local 21</td>\n",
       "      <td>Information Systems</td>\n",
       "      <td>IS Administrator 3</td>\n",
       "    </tr>\n",
       "    <tr>\n",
       "      <th>2</th>\n",
       "      <td>1000</td>\n",
       "      <td>1031</td>\n",
       "      <td>Calendar</td>\n",
       "      <td>Public Protection</td>\n",
       "      <td>ADP</td>\n",
       "      <td>ADP Adult Probation</td>\n",
       "      <td>Prof &amp; Tech Engineers - Miscellaneous, Local 21</td>\n",
       "      <td>Information Systems</td>\n",
       "      <td>IS Trainer-Assistant</td>\n",
       "    </tr>\n",
       "    <tr>\n",
       "      <th>3</th>\n",
       "      <td>1000</td>\n",
       "      <td>1054</td>\n",
       "      <td>Calendar</td>\n",
       "      <td>Public Protection</td>\n",
       "      <td>ADP</td>\n",
       "      <td>ADP Adult Probation</td>\n",
       "      <td>Prof &amp; Tech Engineers - Miscellaneous, Local 21</td>\n",
       "      <td>Information Systems</td>\n",
       "      <td>IS Business Analyst-Principal</td>\n",
       "    </tr>\n",
       "    <tr>\n",
       "      <th>4</th>\n",
       "      <td>1000</td>\n",
       "      <td>1062</td>\n",
       "      <td>Calendar</td>\n",
       "      <td>Public Protection</td>\n",
       "      <td>ADP</td>\n",
       "      <td>ADP Adult Probation</td>\n",
       "      <td>Prof &amp; Tech Engineers - Miscellaneous, Local 21</td>\n",
       "      <td>Information Systems</td>\n",
       "      <td>IS Programmer Analyst</td>\n",
       "    </tr>\n",
       "  </tbody>\n",
       "</table>\n",
       "</div>"
      ],
      "text/plain": [
       "  Job Family Code Job Code Year Type Organization Group Department Code  \\\n",
       "0            1000     1021  Calendar  Public Protection             ADP   \n",
       "1            1000     1023  Calendar  Public Protection             ADP   \n",
       "2            1000     1031  Calendar  Public Protection             ADP   \n",
       "3            1000     1054  Calendar  Public Protection             ADP   \n",
       "4            1000     1062  Calendar  Public Protection             ADP   \n",
       "\n",
       "            Department                                            Union  \\\n",
       "0  ADP Adult Probation  Prof & Tech Engineers - Miscellaneous, Local 21   \n",
       "1  ADP Adult Probation  Prof & Tech Engineers - Miscellaneous, Local 21   \n",
       "2  ADP Adult Probation  Prof & Tech Engineers - Miscellaneous, Local 21   \n",
       "3  ADP Adult Probation  Prof & Tech Engineers - Miscellaneous, Local 21   \n",
       "4  ADP Adult Probation  Prof & Tech Engineers - Miscellaneous, Local 21   \n",
       "\n",
       "            Job Family                            Job  \n",
       "0  Information Systems             IS Administrator 1  \n",
       "1  Information Systems             IS Administrator 3  \n",
       "2  Information Systems           IS Trainer-Assistant  \n",
       "3  Information Systems  IS Business Analyst-Principal  \n",
       "4  Information Systems          IS Programmer Analyst  "
      ]
     },
     "execution_count": 10,
     "metadata": {},
     "output_type": "execute_result"
    }
   ],
   "source": [
    "categorical_cols = df.select_dtypes(include='object')\n",
    "categorical_cols.head()"
   ]
  },
  {
   "cell_type": "code",
   "execution_count": 11,
   "metadata": {},
   "outputs": [],
   "source": [
    "df = df.select_dtypes(include=['float64'])"
   ]
  },
  {
   "cell_type": "code",
   "execution_count": 12,
   "metadata": {},
   "outputs": [
    {
     "data": {
      "text/plain": [
       "Index(['Union Code', 'Salaries', 'Overtime', 'Other Salaries', 'Total Salary',\n",
       "       'Retirement', 'Health and Dental', 'Other Benefits', 'Total Benefits',\n",
       "       'Total Compensation'],\n",
       "      dtype='object')"
      ]
     },
     "execution_count": 12,
     "metadata": {},
     "output_type": "execute_result"
    }
   ],
   "source": [
    "df.columns"
   ]
  },
  {
   "cell_type": "code",
   "execution_count": 13,
   "metadata": {},
   "outputs": [
    {
     "data": {
      "text/plain": [
       "(682919, 10)"
      ]
     },
     "execution_count": 13,
     "metadata": {},
     "output_type": "execute_result"
    }
   ],
   "source": [
    "df.shape"
   ]
  },
  {
   "cell_type": "code",
   "execution_count": 14,
   "metadata": {},
   "outputs": [
    {
     "data": {
      "text/html": [
       "<div>\n",
       "<style scoped>\n",
       "    .dataframe tbody tr th:only-of-type {\n",
       "        vertical-align: middle;\n",
       "    }\n",
       "\n",
       "    .dataframe tbody tr th {\n",
       "        vertical-align: top;\n",
       "    }\n",
       "\n",
       "    .dataframe thead th {\n",
       "        text-align: right;\n",
       "    }\n",
       "</style>\n",
       "<table border=\"1\" class=\"dataframe\">\n",
       "  <thead>\n",
       "    <tr style=\"text-align: right;\">\n",
       "      <th></th>\n",
       "      <th>Union Code</th>\n",
       "      <th>Salaries</th>\n",
       "      <th>Overtime</th>\n",
       "      <th>Other Salaries</th>\n",
       "      <th>Total Salary</th>\n",
       "      <th>Retirement</th>\n",
       "      <th>Health and Dental</th>\n",
       "      <th>Other Benefits</th>\n",
       "      <th>Total Benefits</th>\n",
       "      <th>Total Compensation</th>\n",
       "    </tr>\n",
       "  </thead>\n",
       "  <tbody>\n",
       "    <tr>\n",
       "      <th>0</th>\n",
       "      <td>21.0</td>\n",
       "      <td>57534.65</td>\n",
       "      <td>0.0</td>\n",
       "      <td>0.00</td>\n",
       "      <td>57534.65</td>\n",
       "      <td>11253.16</td>\n",
       "      <td>11961.34</td>\n",
       "      <td>4532.63</td>\n",
       "      <td>27747.13</td>\n",
       "      <td>85281.78</td>\n",
       "    </tr>\n",
       "    <tr>\n",
       "      <th>1</th>\n",
       "      <td>21.0</td>\n",
       "      <td>57678.50</td>\n",
       "      <td>0.0</td>\n",
       "      <td>0.00</td>\n",
       "      <td>57678.50</td>\n",
       "      <td>10284.88</td>\n",
       "      <td>7176.80</td>\n",
       "      <td>4755.14</td>\n",
       "      <td>22216.82</td>\n",
       "      <td>79895.32</td>\n",
       "    </tr>\n",
       "    <tr>\n",
       "      <th>2</th>\n",
       "      <td>21.0</td>\n",
       "      <td>63532.93</td>\n",
       "      <td>0.0</td>\n",
       "      <td>0.00</td>\n",
       "      <td>63532.93</td>\n",
       "      <td>12495.83</td>\n",
       "      <td>12918.24</td>\n",
       "      <td>4702.71</td>\n",
       "      <td>30116.78</td>\n",
       "      <td>93649.71</td>\n",
       "    </tr>\n",
       "    <tr>\n",
       "      <th>3</th>\n",
       "      <td>21.0</td>\n",
       "      <td>101274.51</td>\n",
       "      <td>0.0</td>\n",
       "      <td>-7058.59</td>\n",
       "      <td>94215.92</td>\n",
       "      <td>19644.45</td>\n",
       "      <td>12918.24</td>\n",
       "      <td>7458.76</td>\n",
       "      <td>40021.45</td>\n",
       "      <td>134237.37</td>\n",
       "    </tr>\n",
       "    <tr>\n",
       "      <th>4</th>\n",
       "      <td>21.0</td>\n",
       "      <td>5084.00</td>\n",
       "      <td>0.0</td>\n",
       "      <td>0.00</td>\n",
       "      <td>5084.00</td>\n",
       "      <td>1083.90</td>\n",
       "      <td>956.91</td>\n",
       "      <td>387.50</td>\n",
       "      <td>2428.31</td>\n",
       "      <td>7512.31</td>\n",
       "    </tr>\n",
       "  </tbody>\n",
       "</table>\n",
       "</div>"
      ],
      "text/plain": [
       "   Union Code   Salaries  Overtime  Other Salaries  Total Salary  Retirement  \\\n",
       "0        21.0   57534.65       0.0            0.00      57534.65    11253.16   \n",
       "1        21.0   57678.50       0.0            0.00      57678.50    10284.88   \n",
       "2        21.0   63532.93       0.0            0.00      63532.93    12495.83   \n",
       "3        21.0  101274.51       0.0        -7058.59      94215.92    19644.45   \n",
       "4        21.0    5084.00       0.0            0.00       5084.00     1083.90   \n",
       "\n",
       "   Health and Dental  Other Benefits  Total Benefits  Total Compensation  \n",
       "0           11961.34         4532.63        27747.13            85281.78  \n",
       "1            7176.80         4755.14        22216.82            79895.32  \n",
       "2           12918.24         4702.71        30116.78            93649.71  \n",
       "3           12918.24         7458.76        40021.45           134237.37  \n",
       "4             956.91          387.50         2428.31             7512.31  "
      ]
     },
     "execution_count": 14,
     "metadata": {},
     "output_type": "execute_result"
    }
   ],
   "source": [
    "df.head()"
   ]
  },
  {
   "cell_type": "code",
   "execution_count": 15,
   "metadata": {},
   "outputs": [
    {
     "name": "stdout",
     "output_type": "stream",
     "text": [
      "Union Code has::::: 70 Unique Values\n",
      "Salaries has::::: 498267 Unique Values\n",
      "Overtime has::::: 261976 Unique Values\n",
      "Other Salaries has::::: 307729 Unique Values\n",
      "Total Salary has::::: 614930 Unique Values\n",
      "Retirement has::::: 451568 Unique Values\n",
      "Health and Dental has::::: 209844 Unique Values\n",
      "Other Benefits has::::: 496051 Unique Values\n",
      "Total Benefits has::::: 616180 Unique Values\n",
      "Total Compensation has::::: 658354 Unique Values\n"
     ]
    }
   ],
   "source": [
    "for cols in df.columns:\n",
    "  print(cols, 'has:::::', df[cols].nunique(), 'Unique Values')"
   ]
  },
  {
   "cell_type": "code",
   "execution_count": 16,
   "metadata": {},
   "outputs": [],
   "source": [
    "df = df.drop(['Union Code', 'Other Salaries'], axis = 1)"
   ]
  },
  {
   "cell_type": "code",
   "execution_count": 17,
   "metadata": {},
   "outputs": [
    {
     "name": "stdout",
     "output_type": "stream",
     "text": [
      "<class 'pandas.core.frame.DataFrame'>\n",
      "Int64Index: 682919 entries, 0 to 683276\n",
      "Data columns (total 8 columns):\n",
      " #   Column              Non-Null Count   Dtype  \n",
      "---  ------              --------------   -----  \n",
      " 0   Salaries            682919 non-null  float64\n",
      " 1   Overtime            682919 non-null  float64\n",
      " 2   Total Salary        682919 non-null  float64\n",
      " 3   Retirement          682919 non-null  float64\n",
      " 4   Health and Dental   682919 non-null  float64\n",
      " 5   Other Benefits      682919 non-null  float64\n",
      " 6   Total Benefits      682919 non-null  float64\n",
      " 7   Total Compensation  682919 non-null  float64\n",
      "dtypes: float64(8)\n",
      "memory usage: 46.9 MB\n"
     ]
    }
   ],
   "source": [
    "df.info()"
   ]
  },
  {
   "cell_type": "code",
   "execution_count": 18,
   "metadata": {},
   "outputs": [
    {
     "data": {
      "text/html": [
       "<div>\n",
       "<style scoped>\n",
       "    .dataframe tbody tr th:only-of-type {\n",
       "        vertical-align: middle;\n",
       "    }\n",
       "\n",
       "    .dataframe tbody tr th {\n",
       "        vertical-align: top;\n",
       "    }\n",
       "\n",
       "    .dataframe thead th {\n",
       "        text-align: right;\n",
       "    }\n",
       "</style>\n",
       "<table border=\"1\" class=\"dataframe\">\n",
       "  <thead>\n",
       "    <tr style=\"text-align: right;\">\n",
       "      <th></th>\n",
       "      <th>Salaries</th>\n",
       "      <th>Overtime</th>\n",
       "      <th>Total Salary</th>\n",
       "      <th>Retirement</th>\n",
       "      <th>Health and Dental</th>\n",
       "      <th>Other Benefits</th>\n",
       "      <th>Total Benefits</th>\n",
       "      <th>Total Compensation</th>\n",
       "    </tr>\n",
       "  </thead>\n",
       "  <tbody>\n",
       "    <tr>\n",
       "      <th>count</th>\n",
       "      <td>682919.000000</td>\n",
       "      <td>682919.000000</td>\n",
       "      <td>682919.000000</td>\n",
       "      <td>682919.000000</td>\n",
       "      <td>682919.000000</td>\n",
       "      <td>682919.000000</td>\n",
       "      <td>682919.000000</td>\n",
       "      <td>682919.000000</td>\n",
       "    </tr>\n",
       "    <tr>\n",
       "      <th>mean</th>\n",
       "      <td>69493.840390</td>\n",
       "      <td>5476.651604</td>\n",
       "      <td>78601.964004</td>\n",
       "      <td>13664.568361</td>\n",
       "      <td>9950.032677</td>\n",
       "      <td>5040.594347</td>\n",
       "      <td>28655.195384</td>\n",
       "      <td>107257.159388</td>\n",
       "    </tr>\n",
       "    <tr>\n",
       "      <th>std</th>\n",
       "      <td>47766.600651</td>\n",
       "      <td>13112.641274</td>\n",
       "      <td>55745.985286</td>\n",
       "      <td>10109.190457</td>\n",
       "      <td>5732.227856</td>\n",
       "      <td>3787.819609</td>\n",
       "      <td>17866.946463</td>\n",
       "      <td>72282.967638</td>\n",
       "    </tr>\n",
       "    <tr>\n",
       "      <th>min</th>\n",
       "      <td>-68771.780000</td>\n",
       "      <td>-12308.660000</td>\n",
       "      <td>-68771.780000</td>\n",
       "      <td>-30621.430000</td>\n",
       "      <td>-3831.090000</td>\n",
       "      <td>-10636.500000</td>\n",
       "      <td>-21295.150000</td>\n",
       "      <td>-74082.610000</td>\n",
       "    </tr>\n",
       "    <tr>\n",
       "      <th>25%</th>\n",
       "      <td>29073.460000</td>\n",
       "      <td>0.000000</td>\n",
       "      <td>31756.370000</td>\n",
       "      <td>4679.095000</td>\n",
       "      <td>4784.540000</td>\n",
       "      <td>1872.705000</td>\n",
       "      <td>11748.130000</td>\n",
       "      <td>44540.265000</td>\n",
       "    </tr>\n",
       "    <tr>\n",
       "      <th>50%</th>\n",
       "      <td>67911.050000</td>\n",
       "      <td>0.000000</td>\n",
       "      <td>74894.560000</td>\n",
       "      <td>13862.820000</td>\n",
       "      <td>12501.250000</td>\n",
       "      <td>4878.880000</td>\n",
       "      <td>32528.910000</td>\n",
       "      <td>107563.090000</td>\n",
       "    </tr>\n",
       "    <tr>\n",
       "      <th>75%</th>\n",
       "      <td>100451.055000</td>\n",
       "      <td>4226.340000</td>\n",
       "      <td>112692.195000</td>\n",
       "      <td>20155.985000</td>\n",
       "      <td>14037.160000</td>\n",
       "      <td>7527.095000</td>\n",
       "      <td>40920.955000</td>\n",
       "      <td>154201.665000</td>\n",
       "    </tr>\n",
       "    <tr>\n",
       "      <th>max</th>\n",
       "      <td>651936.710000</td>\n",
       "      <td>321523.310000</td>\n",
       "      <td>658867.570000</td>\n",
       "      <td>121952.520000</td>\n",
       "      <td>59405.230000</td>\n",
       "      <td>36815.390000</td>\n",
       "      <td>151645.180000</td>\n",
       "      <td>807625.250000</td>\n",
       "    </tr>\n",
       "  </tbody>\n",
       "</table>\n",
       "</div>"
      ],
      "text/plain": [
       "            Salaries       Overtime   Total Salary     Retirement  \\\n",
       "count  682919.000000  682919.000000  682919.000000  682919.000000   \n",
       "mean    69493.840390    5476.651604   78601.964004   13664.568361   \n",
       "std     47766.600651   13112.641274   55745.985286   10109.190457   \n",
       "min    -68771.780000  -12308.660000  -68771.780000  -30621.430000   \n",
       "25%     29073.460000       0.000000   31756.370000    4679.095000   \n",
       "50%     67911.050000       0.000000   74894.560000   13862.820000   \n",
       "75%    100451.055000    4226.340000  112692.195000   20155.985000   \n",
       "max    651936.710000  321523.310000  658867.570000  121952.520000   \n",
       "\n",
       "       Health and Dental  Other Benefits  Total Benefits  Total Compensation  \n",
       "count      682919.000000   682919.000000   682919.000000       682919.000000  \n",
       "mean         9950.032677     5040.594347    28655.195384       107257.159388  \n",
       "std          5732.227856     3787.819609    17866.946463        72282.967638  \n",
       "min         -3831.090000   -10636.500000   -21295.150000       -74082.610000  \n",
       "25%          4784.540000     1872.705000    11748.130000        44540.265000  \n",
       "50%         12501.250000     4878.880000    32528.910000       107563.090000  \n",
       "75%         14037.160000     7527.095000    40920.955000       154201.665000  \n",
       "max         59405.230000    36815.390000   151645.180000       807625.250000  "
      ]
     },
     "execution_count": 18,
     "metadata": {},
     "output_type": "execute_result"
    }
   ],
   "source": [
    "df.describe()"
   ]
  },
  {
   "cell_type": "code",
   "execution_count": 19,
   "metadata": {},
   "outputs": [
    {
     "data": {
      "image/png": "[encoded data removed]",
      "text/plain": [
       "<Figure size 432x288 with 1 Axes>"
      ]
     },
     "metadata": {
      "needs_background": "light"
     },
     "output_type": "display_data"
    }
   ],
   "source": [
    "salary = ['Salaries', 'Total Salary', 'Total Compensation']\n",
    "for col in salary:\n",
    "    ax_salary = sns.kdeplot(df[col])\n",
    "    ax_salary"
   ]
  },
  {
   "cell_type": "code",
   "execution_count": 20,
   "metadata": {},
   "outputs": [
    {
     "data": {
      "image/png": "[encoded data removed]",
      "text/plain": [
       "<Figure size 432x288 with 1 Axes>"
      ]
     },
     "metadata": {
      "needs_background": "light"
     },
     "output_type": "display_data"
    }
   ],
   "source": [
    "benefits = ['Retirement', 'Health and Dental', 'Other Benefits', 'Total Benefits']\n",
    "for col in benefits:\n",
    "    ax_benefits = sns.kdeplot(df[col])\n",
    "    ax_benefits"
   ]
  },
  {
   "cell_type": "code",
   "execution_count": 21,
   "metadata": {},
   "outputs": [
    {
     "data": {
      "text/plain": [
       "Salaries              676011\n",
       "Overtime              676011\n",
       "Total Salary          676011\n",
       "Retirement            676011\n",
       "Health and Dental     676011\n",
       "Other Benefits        676011\n",
       "Total Benefits        676011\n",
       "Total Compensation    676011\n",
       "dtype: int64"
      ]
     },
     "execution_count": 21,
     "metadata": {},
     "output_type": "execute_result"
    }
   ],
   "source": [
    "## Remove salaries lower than 35,000\n",
    "df[df['Salaries']<200000].count()"
   ]
  },
  {
   "cell_type": "code",
   "execution_count": 22,
   "metadata": {},
   "outputs": [],
   "source": [
    "df = df[df['Salaries']<200000]\n",
    "df = df[df['Salaries']>20000]"
   ]
  },
  {
   "cell_type": "code",
   "execution_count": 23,
   "metadata": {},
   "outputs": [
    {
     "data": {
      "text/plain": [
       "(534905, 8)"
      ]
     },
     "execution_count": 23,
     "metadata": {},
     "output_type": "execute_result"
    }
   ],
   "source": [
    "df.shape"
   ]
  },
  {
   "cell_type": "code",
   "execution_count": 24,
   "metadata": {},
   "outputs": [
    {
     "name": "stdout",
     "output_type": "stream",
     "text": [
      "8\n"
     ]
    }
   ],
   "source": [
    "headers = df.columns\n",
    "print(len(headers))"
   ]
  },
  {
   "cell_type": "code",
   "execution_count": 25,
   "metadata": {},
   "outputs": [],
   "source": [
    "from sklearn.preprocessing import StandardScaler\n",
    "scaler = StandardScaler()\n",
    "df = scaler.fit_transform(df)"
   ]
  },
  {
   "cell_type": "code",
   "execution_count": 26,
   "metadata": {},
   "outputs": [],
   "source": [
    "df = pd.DataFrame(df, columns = headers)"
   ]
  },
  {
   "cell_type": "code",
   "execution_count": 27,
   "metadata": {},
   "outputs": [
    {
     "data": {
      "text/html": [
       "<div>\n",
       "<style scoped>\n",
       "    .dataframe tbody tr th:only-of-type {\n",
       "        vertical-align: middle;\n",
       "    }\n",
       "\n",
       "    .dataframe tbody tr th {\n",
       "        vertical-align: top;\n",
       "    }\n",
       "\n",
       "    .dataframe thead th {\n",
       "        text-align: right;\n",
       "    }\n",
       "</style>\n",
       "<table border=\"1\" class=\"dataframe\">\n",
       "  <thead>\n",
       "    <tr style=\"text-align: right;\">\n",
       "      <th></th>\n",
       "      <th>Salaries</th>\n",
       "      <th>Overtime</th>\n",
       "      <th>Total Salary</th>\n",
       "      <th>Retirement</th>\n",
       "      <th>Health and Dental</th>\n",
       "      <th>Other Benefits</th>\n",
       "      <th>Total Benefits</th>\n",
       "      <th>Total Compensation</th>\n",
       "    </tr>\n",
       "  </thead>\n",
       "  <tbody>\n",
       "    <tr>\n",
       "      <th>0</th>\n",
       "      <td>-0.724333</td>\n",
       "      <td>-0.478814</td>\n",
       "      <td>-0.834378</td>\n",
       "      <td>-0.679098</td>\n",
       "      <td>-0.041660</td>\n",
       "      <td>-0.474605</td>\n",
       "      <td>-0.561731</td>\n",
       "      <td>-0.800440</td>\n",
       "    </tr>\n",
       "    <tr>\n",
       "      <th>1</th>\n",
       "      <td>-0.720385</td>\n",
       "      <td>-0.478814</td>\n",
       "      <td>-0.831186</td>\n",
       "      <td>-0.800217</td>\n",
       "      <td>-1.230560</td>\n",
       "      <td>-0.407388</td>\n",
       "      <td>-0.995137</td>\n",
       "      <td>-0.896753</td>\n",
       "    </tr>\n",
       "    <tr>\n",
       "      <th>2</th>\n",
       "      <td>-0.559726</td>\n",
       "      <td>-0.478814</td>\n",
       "      <td>-0.701263</td>\n",
       "      <td>-0.523657</td>\n",
       "      <td>0.196118</td>\n",
       "      <td>-0.423226</td>\n",
       "      <td>-0.376024</td>\n",
       "      <td>-0.650815</td>\n",
       "    </tr>\n",
       "    <tr>\n",
       "      <th>3</th>\n",
       "      <td>0.475994</td>\n",
       "      <td>-0.478814</td>\n",
       "      <td>-0.020338</td>\n",
       "      <td>0.370540</td>\n",
       "      <td>0.196118</td>\n",
       "      <td>0.409338</td>\n",
       "      <td>0.400196</td>\n",
       "      <td>0.074922</td>\n",
       "    </tr>\n",
       "    <tr>\n",
       "      <th>4</th>\n",
       "      <td>-1.357666</td>\n",
       "      <td>-0.478814</td>\n",
       "      <td>-1.346546</td>\n",
       "      <td>-1.167832</td>\n",
       "      <td>-2.062787</td>\n",
       "      <td>-1.064482</td>\n",
       "      <td>-1.658393</td>\n",
       "      <td>-1.463318</td>\n",
       "    </tr>\n",
       "  </tbody>\n",
       "</table>\n",
       "</div>"
      ],
      "text/plain": [
       "   Salaries  Overtime  Total Salary  Retirement  Health and Dental  \\\n",
       "0 -0.724333 -0.478814     -0.834378   -0.679098          -0.041660   \n",
       "1 -0.720385 -0.478814     -0.831186   -0.800217          -1.230560   \n",
       "2 -0.559726 -0.478814     -0.701263   -0.523657           0.196118   \n",
       "3  0.475994 -0.478814     -0.020338    0.370540           0.196118   \n",
       "4 -1.357666 -0.478814     -1.346546   -1.167832          -2.062787   \n",
       "\n",
       "   Other Benefits  Total Benefits  Total Compensation  \n",
       "0       -0.474605       -0.561731           -0.800440  \n",
       "1       -0.407388       -0.995137           -0.896753  \n",
       "2       -0.423226       -0.376024           -0.650815  \n",
       "3        0.409338        0.400196            0.074922  \n",
       "4       -1.064482       -1.658393           -1.463318  "
      ]
     },
     "execution_count": 27,
     "metadata": {},
     "output_type": "execute_result"
    }
   ],
   "source": [
    "df.head()"
   ]
  },
  {
   "cell_type": "code",
   "execution_count": 28,
   "metadata": {},
   "outputs": [
    {
     "name": "stderr",
     "output_type": "stream",
     "text": [
      "C:\\Users\\mahfu\\Anaconda3\\lib\\site-packages\\pandas\\plotting\\_matplotlib\\tools.py:400: MatplotlibDeprecationWarning: \n",
      "The is_first_col function was deprecated in Matplotlib 3.4 and will be removed two minor releases later. Use ax.get_subplotspec().is_first_col() instead.\n",
      "  if ax.is_first_col():\n"
     ]
    },
    {
     "data": {
      "image/png": "[encoded data removed]",
      "text/plain": [
       "<Figure size 720x720 with 9 Axes>"
      ]
     },
     "metadata": {
      "needs_background": "light"
     },
     "output_type": "display_data"
    }
   ],
   "source": [
    "df.hist(bins = 9, figsize = (10,10));"
   ]
  },
  {
   "cell_type": "code",
   "execution_count": 29,
   "metadata": {},
   "outputs": [
    {
     "data": {
      "text/plain": [
       "(array([8.00000e+00, 1.30000e+01, 2.16200e+04, 1.42099e+05, 2.69782e+05,\n",
       "        8.83180e+04, 1.17660e+04, 1.12800e+03, 1.40000e+02, 3.10000e+01]),\n",
       " array([-5.7929369 , -4.46696284, -3.14098878, -1.81501472, -0.48904066,\n",
       "         0.8369334 ,  2.16290746,  3.48888152,  4.81485558,  6.14082964,\n",
       "         7.46680369]),\n",
       " <BarContainer object of 10 artists>)"
      ]
     },
     "execution_count": 29,
     "metadata": {},
     "output_type": "execute_result"
    },
    {
     "data": {
      "image/png": "[encoded data removed]",
      "text/plain": [
       "<Figure size 432x288 with 1 Axes>"
      ]
     },
     "metadata": {
      "needs_background": "light"
     },
     "output_type": "display_data"
    }
   ],
   "source": [
    "plt.hist(df.Retirement)"
   ]
  },
  {
   "cell_type": "code",
   "execution_count": 30,
   "metadata": {},
   "outputs": [],
   "source": [
    "from sklearn.cluster import KMeans\n",
    "# kmeans = KMeans(n_clusters = 2)"
   ]
  },
  {
   "cell_type": "code",
   "execution_count": 31,
   "metadata": {},
   "outputs": [],
   "source": [
    "# kmeans.fit(df)"
   ]
  },
  {
   "cell_type": "code",
   "execution_count": 32,
   "metadata": {},
   "outputs": [],
   "source": [
    "# print(kmeans.cluster_centers_)"
   ]
  },
  {
   "cell_type": "code",
   "execution_count": 33,
   "metadata": {},
   "outputs": [],
   "source": [
    "# kmeans.inertia_"
   ]
  },
  {
   "cell_type": "code",
   "execution_count": 34,
   "metadata": {},
   "outputs": [],
   "source": [
    "wcss = []\n",
    "for k in range(1,11):\n",
    "    kmeans = KMeans(n_clusters = k)\n",
    "    kmeans.fit(df)\n",
    "    wcss.append(kmeans.inertia_)\n",
    "# inertia is the mean squared distace and their centroids"
   ]
  },
  {
   "cell_type": "code",
   "execution_count": 35,
   "metadata": {},
   "outputs": [
    {
     "data": {
      "image/png": "[encoded data removed]",
      "text/plain": [
       "<Figure size 432x288 with 1 Axes>"
      ]
     },
     "metadata": {
      "needs_background": "light"
     },
     "output_type": "display_data"
    }
   ],
   "source": [
    "# plotting\n",
    "plt.plot(wcss);"
   ]
  },
  {
   "cell_type": "code",
   "execution_count": 36,
   "metadata": {},
   "outputs": [
    {
     "data": {
      "text/plain": [
       "[4279240.000000138,\n",
       " 2423624.5662476355,\n",
       " 1749185.7030357076,\n",
       " 1405004.406012358,\n",
       " 1187160.3275725667,\n",
       " 1022179.0427606822,\n",
       " 937002.5962598536,\n",
       " 859524.0145618288,\n",
       " 804050.4802871385,\n",
       " 754977.1345064312]"
      ]
     },
     "execution_count": 36,
     "metadata": {},
     "output_type": "execute_result"
    }
   ],
   "source": [
    "wcss"
   ]
  },
  {
   "cell_type": "code",
   "execution_count": 37,
   "metadata": {},
   "outputs": [
    {
     "name": "stdout",
     "output_type": "stream",
     "text": [
      "[4279240.00000014 2423624.56624764 1749185.70303571 1405004.40601236\n",
      " 1187160.32757257 1022179.04276068  937002.59625985  859524.01456183\n",
      "  804050.48028714  754977.13450643]\n",
      "[1.         0.56636799 0.40876083 0.32833036 0.27742317 0.2388693\n",
      " 0.21896472 0.20085903 0.18789563 0.17642786]\n",
      "[-0.43363201 -0.15760716 -0.08043047 -0.05090719 -0.03855388 -0.01990457\n",
      " -0.01810569 -0.01296341 -0.01146777]\n",
      "The optimal number of clusters are: 5\n"
     ]
    }
   ],
   "source": [
    "scores = np.array(wcss)\n",
    "print(scores)\n",
    "dif_scores = scores/scores[0]\n",
    "print(dif_scores)\n",
    "dif_scores = np.diff(dif_scores)\n",
    "print(dif_scores)\n",
    "n_clusters = np.argwhere(dif_scores<np.quantile(dif_scores, 0.75))[-1][0] # taking 75th percentile since its a big data\n",
    "print('The optimal number of clusters are:',  n_clusters)"
   ]
  },
  {
   "cell_type": "code",
   "execution_count": 38,
   "metadata": {},
   "outputs": [
    {
     "name": "stdout",
     "output_type": "stream",
     "text": [
      "[[-1.24295741e+00 -3.86231637e-01 -1.17293359e+00 -1.36940235e+00\n",
      "  -1.75002974e+00 -9.17152168e-01 -1.64782068e+00 -1.32102267e+00]\n",
      " [ 4.46352785e-01  1.47644230e-03  3.76585509e-01  4.41223494e-01\n",
      "   3.78300398e-01  3.23602722e-01  4.79695614e-01  4.12869751e-01]\n",
      " [-4.95921936e-01 -2.54718408e-01 -5.26302604e-01 -4.02853568e-01\n",
      "   1.69212610e-01 -2.13774822e-01 -2.54486997e-01 -4.82115942e-01]\n",
      " [ 1.02241614e+00  2.71517397e+00  1.90747279e+00  1.15261598e+00\n",
      "   7.30145951e-01 -4.57769462e-01  8.33654008e-01  1.72709417e+00]\n",
      " [ 1.72664899e+00 -3.16277241e-01  1.33264797e+00  1.53397501e+00\n",
      "   6.21862819e-01  1.56332559e+00  1.56275696e+00  1.43029940e+00]]\n"
     ]
    }
   ],
   "source": [
    "kmeans = KMeans(n_clusters = n_clusters)\n",
    "kmeans.fit(df)\n",
    "print(kmeans.cluster_centers_)"
   ]
  },
  {
   "cell_type": "code",
   "execution_count": 39,
   "metadata": {},
   "outputs": [
    {
     "data": {
      "text/html": [
       "<div>\n",
       "<style scoped>\n",
       "    .dataframe tbody tr th:only-of-type {\n",
       "        vertical-align: middle;\n",
       "    }\n",
       "\n",
       "    .dataframe tbody tr th {\n",
       "        vertical-align: top;\n",
       "    }\n",
       "\n",
       "    .dataframe thead th {\n",
       "        text-align: right;\n",
       "    }\n",
       "</style>\n",
       "<table border=\"1\" class=\"dataframe\">\n",
       "  <thead>\n",
       "    <tr style=\"text-align: right;\">\n",
       "      <th></th>\n",
       "      <th>Salaries</th>\n",
       "      <th>Overtime</th>\n",
       "      <th>Total Salary</th>\n",
       "      <th>Retirement</th>\n",
       "      <th>Health and Dental</th>\n",
       "      <th>Other Benefits</th>\n",
       "      <th>Total Benefits</th>\n",
       "      <th>Total Compensation</th>\n",
       "      <th>labels</th>\n",
       "    </tr>\n",
       "  </thead>\n",
       "  <tbody>\n",
       "    <tr>\n",
       "      <th>0</th>\n",
       "      <td>-0.724333</td>\n",
       "      <td>-0.478814</td>\n",
       "      <td>-0.834378</td>\n",
       "      <td>-0.679098</td>\n",
       "      <td>-0.041660</td>\n",
       "      <td>-0.474605</td>\n",
       "      <td>-0.561731</td>\n",
       "      <td>-0.800440</td>\n",
       "      <td>2</td>\n",
       "    </tr>\n",
       "    <tr>\n",
       "      <th>1</th>\n",
       "      <td>-0.720385</td>\n",
       "      <td>-0.478814</td>\n",
       "      <td>-0.831186</td>\n",
       "      <td>-0.800217</td>\n",
       "      <td>-1.230560</td>\n",
       "      <td>-0.407388</td>\n",
       "      <td>-0.995137</td>\n",
       "      <td>-0.896753</td>\n",
       "      <td>0</td>\n",
       "    </tr>\n",
       "    <tr>\n",
       "      <th>2</th>\n",
       "      <td>-0.559726</td>\n",
       "      <td>-0.478814</td>\n",
       "      <td>-0.701263</td>\n",
       "      <td>-0.523657</td>\n",
       "      <td>0.196118</td>\n",
       "      <td>-0.423226</td>\n",
       "      <td>-0.376024</td>\n",
       "      <td>-0.650815</td>\n",
       "      <td>2</td>\n",
       "    </tr>\n",
       "    <tr>\n",
       "      <th>3</th>\n",
       "      <td>0.475994</td>\n",
       "      <td>-0.478814</td>\n",
       "      <td>-0.020338</td>\n",
       "      <td>0.370540</td>\n",
       "      <td>0.196118</td>\n",
       "      <td>0.409338</td>\n",
       "      <td>0.400196</td>\n",
       "      <td>0.074922</td>\n",
       "      <td>1</td>\n",
       "    </tr>\n",
       "    <tr>\n",
       "      <th>4</th>\n",
       "      <td>-1.357666</td>\n",
       "      <td>-0.478814</td>\n",
       "      <td>-1.346546</td>\n",
       "      <td>-1.167832</td>\n",
       "      <td>-2.062787</td>\n",
       "      <td>-1.064482</td>\n",
       "      <td>-1.658393</td>\n",
       "      <td>-1.463318</td>\n",
       "      <td>0</td>\n",
       "    </tr>\n",
       "  </tbody>\n",
       "</table>\n",
       "</div>"
      ],
      "text/plain": [
       "   Salaries  Overtime  Total Salary  Retirement  Health and Dental  \\\n",
       "0 -0.724333 -0.478814     -0.834378   -0.679098          -0.041660   \n",
       "1 -0.720385 -0.478814     -0.831186   -0.800217          -1.230560   \n",
       "2 -0.559726 -0.478814     -0.701263   -0.523657           0.196118   \n",
       "3  0.475994 -0.478814     -0.020338    0.370540           0.196118   \n",
       "4 -1.357666 -0.478814     -1.346546   -1.167832          -2.062787   \n",
       "\n",
       "   Other Benefits  Total Benefits  Total Compensation  labels  \n",
       "0       -0.474605       -0.561731           -0.800440       2  \n",
       "1       -0.407388       -0.995137           -0.896753       0  \n",
       "2       -0.423226       -0.376024           -0.650815       2  \n",
       "3        0.409338        0.400196            0.074922       1  \n",
       "4       -1.064482       -1.658393           -1.463318       0  "
      ]
     },
     "execution_count": 39,
     "metadata": {},
     "output_type": "execute_result"
    }
   ],
   "source": [
    "df['labels'] = kmeans.labels_\n",
    "df.head()"
   ]
  },
  {
   "cell_type": "code",
   "execution_count": 40,
   "metadata": {},
   "outputs": [
    {
     "data": {
      "image/png": "[encoded data removed]",
      "text/plain": [
       "<Figure size 432x288 with 1 Axes>"
      ]
     },
     "metadata": {
      "needs_background": "light"
     },
     "output_type": "display_data"
    }
   ],
   "source": [
    "sns.countplot(x = kmeans.labels_, palette='Oranges')\n",
    "plt.show();"
   ]
  },
  {
   "cell_type": "code",
   "execution_count": 41,
   "metadata": {},
   "outputs": [
    {
     "data": {
      "text/plain": [
       "Text(0, 0.5, 'Total Benefits')"
      ]
     },
     "execution_count": 41,
     "metadata": {},
     "output_type": "execute_result"
    },
    {
     "data": {
      "image/png": "[encoded data removed]",
      "text/plain": [
       "<Figure size 720x720 with 1 Axes>"
      ]
     },
     "metadata": {
      "needs_background": "light"
     },
     "output_type": "display_data"
    }
   ],
   "source": [
    "plt.figure(figsize = (10, 10))\n",
    "plt.scatter(x = df['Total Benefits'], y = df['Total Compensation'],c=df['labels'], cmap='rainbow')\n",
    "plt.xlabel('Total Compensation')\n",
    "plt.ylabel('Total Benefits')"
   ]
  },
  {
   "cell_type": "code",
   "execution_count": 42,
   "metadata": {},
   "outputs": [
    {
     "data": {
      "text/html": [
       "<div>\n",
       "<style scoped>\n",
       "    .dataframe tbody tr th:only-of-type {\n",
       "        vertical-align: middle;\n",
       "    }\n",
       "\n",
       "    .dataframe tbody tr th {\n",
       "        vertical-align: top;\n",
       "    }\n",
       "\n",
       "    .dataframe thead th {\n",
       "        text-align: right;\n",
       "    }\n",
       "</style>\n",
       "<table border=\"1\" class=\"dataframe\">\n",
       "  <thead>\n",
       "    <tr style=\"text-align: right;\">\n",
       "      <th></th>\n",
       "      <th>Salaries</th>\n",
       "      <th>Overtime</th>\n",
       "      <th>Total Salary</th>\n",
       "      <th>Retirement</th>\n",
       "      <th>Health and Dental</th>\n",
       "      <th>Other Benefits</th>\n",
       "      <th>Total Benefits</th>\n",
       "      <th>Total Compensation</th>\n",
       "      <th>labels</th>\n",
       "    </tr>\n",
       "  </thead>\n",
       "  <tbody>\n",
       "    <tr>\n",
       "      <th>0</th>\n",
       "      <td>-0.724333</td>\n",
       "      <td>-0.478814</td>\n",
       "      <td>-0.834378</td>\n",
       "      <td>-0.679098</td>\n",
       "      <td>-0.041660</td>\n",
       "      <td>-0.474605</td>\n",
       "      <td>-0.561731</td>\n",
       "      <td>-0.800440</td>\n",
       "      <td>2</td>\n",
       "    </tr>\n",
       "    <tr>\n",
       "      <th>1</th>\n",
       "      <td>-0.720385</td>\n",
       "      <td>-0.478814</td>\n",
       "      <td>-0.831186</td>\n",
       "      <td>-0.800217</td>\n",
       "      <td>-1.230560</td>\n",
       "      <td>-0.407388</td>\n",
       "      <td>-0.995137</td>\n",
       "      <td>-0.896753</td>\n",
       "      <td>0</td>\n",
       "    </tr>\n",
       "    <tr>\n",
       "      <th>2</th>\n",
       "      <td>-0.559726</td>\n",
       "      <td>-0.478814</td>\n",
       "      <td>-0.701263</td>\n",
       "      <td>-0.523657</td>\n",
       "      <td>0.196118</td>\n",
       "      <td>-0.423226</td>\n",
       "      <td>-0.376024</td>\n",
       "      <td>-0.650815</td>\n",
       "      <td>2</td>\n",
       "    </tr>\n",
       "    <tr>\n",
       "      <th>3</th>\n",
       "      <td>0.475994</td>\n",
       "      <td>-0.478814</td>\n",
       "      <td>-0.020338</td>\n",
       "      <td>0.370540</td>\n",
       "      <td>0.196118</td>\n",
       "      <td>0.409338</td>\n",
       "      <td>0.400196</td>\n",
       "      <td>0.074922</td>\n",
       "      <td>1</td>\n",
       "    </tr>\n",
       "    <tr>\n",
       "      <th>4</th>\n",
       "      <td>-1.357666</td>\n",
       "      <td>-0.478814</td>\n",
       "      <td>-1.346546</td>\n",
       "      <td>-1.167832</td>\n",
       "      <td>-2.062787</td>\n",
       "      <td>-1.064482</td>\n",
       "      <td>-1.658393</td>\n",
       "      <td>-1.463318</td>\n",
       "      <td>0</td>\n",
       "    </tr>\n",
       "  </tbody>\n",
       "</table>\n",
       "</div>"
      ],
      "text/plain": [
       "   Salaries  Overtime  Total Salary  Retirement  Health and Dental  \\\n",
       "0 -0.724333 -0.478814     -0.834378   -0.679098          -0.041660   \n",
       "1 -0.720385 -0.478814     -0.831186   -0.800217          -1.230560   \n",
       "2 -0.559726 -0.478814     -0.701263   -0.523657           0.196118   \n",
       "3  0.475994 -0.478814     -0.020338    0.370540           0.196118   \n",
       "4 -1.357666 -0.478814     -1.346546   -1.167832          -2.062787   \n",
       "\n",
       "   Other Benefits  Total Benefits  Total Compensation  labels  \n",
       "0       -0.474605       -0.561731           -0.800440       2  \n",
       "1       -0.407388       -0.995137           -0.896753       0  \n",
       "2       -0.423226       -0.376024           -0.650815       2  \n",
       "3        0.409338        0.400196            0.074922       1  \n",
       "4       -1.064482       -1.658393           -1.463318       0  "
      ]
     },
     "execution_count": 42,
     "metadata": {},
     "output_type": "execute_result"
    }
   ],
   "source": [
    "df.head()"
   ]
  },
  {
   "cell_type": "code",
   "execution_count": 43,
   "metadata": {},
   "outputs": [
    {
     "data": {
      "text/plain": [
       "(534905, 9)"
      ]
     },
     "execution_count": 43,
     "metadata": {},
     "output_type": "execute_result"
    }
   ],
   "source": [
    "df.shape"
   ]
  },
  {
   "cell_type": "code",
   "execution_count": 44,
   "metadata": {},
   "outputs": [
    {
     "data": {
      "text/plain": [
       "(534905, 8)"
      ]
     },
     "execution_count": 44,
     "metadata": {},
     "output_type": "execute_result"
    }
   ],
   "source": [
    "df =  df.drop(['labels'], axis = 1)\n",
    "df.shape"
   ]
  },
  {
   "cell_type": "code",
   "execution_count": 45,
   "metadata": {},
   "outputs": [],
   "source": [
    "from sklearn.model_selection import train_test_split\n",
    "train, test  = train_test_split(df, test_size = .02)"
   ]
  },
  {
   "cell_type": "code",
   "execution_count": 46,
   "metadata": {},
   "outputs": [
    {
     "data": {
      "text/html": [
       "<div>\n",
       "<style scoped>\n",
       "    .dataframe tbody tr th:only-of-type {\n",
       "        vertical-align: middle;\n",
       "    }\n",
       "\n",
       "    .dataframe tbody tr th {\n",
       "        vertical-align: top;\n",
       "    }\n",
       "\n",
       "    .dataframe thead th {\n",
       "        text-align: right;\n",
       "    }\n",
       "</style>\n",
       "<table border=\"1\" class=\"dataframe\">\n",
       "  <thead>\n",
       "    <tr style=\"text-align: right;\">\n",
       "      <th></th>\n",
       "      <th>Salaries</th>\n",
       "      <th>Overtime</th>\n",
       "      <th>Total Salary</th>\n",
       "      <th>Retirement</th>\n",
       "      <th>Health and Dental</th>\n",
       "      <th>Other Benefits</th>\n",
       "      <th>Total Benefits</th>\n",
       "      <th>Total Compensation</th>\n",
       "    </tr>\n",
       "  </thead>\n",
       "  <tbody>\n",
       "    <tr>\n",
       "      <th>331791</th>\n",
       "      <td>-0.391718</td>\n",
       "      <td>-0.441374</td>\n",
       "      <td>-0.381988</td>\n",
       "      <td>-0.326033</td>\n",
       "      <td>0.236425</td>\n",
       "      <td>0.100954</td>\n",
       "      <td>-0.103511</td>\n",
       "      <td>-0.331392</td>\n",
       "    </tr>\n",
       "    <tr>\n",
       "      <th>139877</th>\n",
       "      <td>1.395301</td>\n",
       "      <td>-0.478814</td>\n",
       "      <td>0.879739</td>\n",
       "      <td>1.067207</td>\n",
       "      <td>0.474155</td>\n",
       "      <td>1.378491</td>\n",
       "      <td>1.175782</td>\n",
       "      <td>0.977090</td>\n",
       "    </tr>\n",
       "    <tr>\n",
       "      <th>520825</th>\n",
       "      <td>0.226996</td>\n",
       "      <td>-0.478814</td>\n",
       "      <td>-0.030433</td>\n",
       "      <td>0.360056</td>\n",
       "      <td>0.781788</td>\n",
       "      <td>0.462862</td>\n",
       "      <td>0.592224</td>\n",
       "      <td>0.110602</td>\n",
       "    </tr>\n",
       "    <tr>\n",
       "      <th>424247</th>\n",
       "      <td>2.052295</td>\n",
       "      <td>0.560604</td>\n",
       "      <td>2.040267</td>\n",
       "      <td>0.390415</td>\n",
       "      <td>1.416950</td>\n",
       "      <td>0.735377</td>\n",
       "      <td>0.882262</td>\n",
       "      <td>1.845179</td>\n",
       "    </tr>\n",
       "    <tr>\n",
       "      <th>401599</th>\n",
       "      <td>0.293360</td>\n",
       "      <td>-0.333937</td>\n",
       "      <td>0.121563</td>\n",
       "      <td>0.090573</td>\n",
       "      <td>0.594630</td>\n",
       "      <td>-1.368456</td>\n",
       "      <td>-0.110731</td>\n",
       "      <td>0.072681</td>\n",
       "    </tr>\n",
       "  </tbody>\n",
       "</table>\n",
       "</div>"
      ],
      "text/plain": [
       "        Salaries  Overtime  Total Salary  Retirement  Health and Dental  \\\n",
       "331791 -0.391718 -0.441374     -0.381988   -0.326033           0.236425   \n",
       "139877  1.395301 -0.478814      0.879739    1.067207           0.474155   \n",
       "520825  0.226996 -0.478814     -0.030433    0.360056           0.781788   \n",
       "424247  2.052295  0.560604      2.040267    0.390415           1.416950   \n",
       "401599  0.293360 -0.333937      0.121563    0.090573           0.594630   \n",
       "\n",
       "        Other Benefits  Total Benefits  Total Compensation  \n",
       "331791        0.100954       -0.103511           -0.331392  \n",
       "139877        1.378491        1.175782            0.977090  \n",
       "520825        0.462862        0.592224            0.110602  \n",
       "424247        0.735377        0.882262            1.845179  \n",
       "401599       -1.368456       -0.110731            0.072681  "
      ]
     },
     "execution_count": 46,
     "metadata": {},
     "output_type": "execute_result"
    }
   ],
   "source": [
    "test.head()"
   ]
  },
  {
   "cell_type": "code",
   "execution_count": 47,
   "metadata": {},
   "outputs": [
    {
     "data": {
      "text/plain": [
       "(10699, 8)"
      ]
     },
     "execution_count": 47,
     "metadata": {},
     "output_type": "execute_result"
    }
   ],
   "source": [
    "test.shape"
   ]
  },
  {
   "cell_type": "code",
   "execution_count": null,
   "metadata": {},
   "outputs": [],
   "source": []
  },
  {
   "cell_type": "code",
   "execution_count": 49,
   "metadata": {},
   "outputs": [
    {
     "ename": "TypeError",
     "evalue": "object of type 'NoneType' has no len()",
     "output_type": "error",
     "traceback": [
      "\u001b[1;31m---------------------------------------------------------------------------\u001b[0m",
      "\u001b[1;31mTypeError\u001b[0m                                 Traceback (most recent call last)",
      "\u001b[1;32m<ipython-input-49-a0c4782a6f5b>\u001b[0m in \u001b[0;36m<module>\u001b[1;34m\u001b[0m\n\u001b[0;32m      3\u001b[0m \u001b[1;31m# print('Z-Shape:', Z.shape)\u001b[0m\u001b[1;33m\u001b[0m\u001b[1;33m\u001b[0m\u001b[1;33m\u001b[0m\u001b[0m\n\u001b[0;32m      4\u001b[0m \u001b[0mplt\u001b[0m\u001b[1;33m.\u001b[0m\u001b[0mtitle\u001b[0m\u001b[1;33m(\u001b[0m\u001b[1;34m'Single'\u001b[0m\u001b[1;33m,\u001b[0m \u001b[0msize\u001b[0m \u001b[1;33m=\u001b[0m \u001b[1;36m30\u001b[0m\u001b[1;33m)\u001b[0m\u001b[1;33m\u001b[0m\u001b[1;33m\u001b[0m\u001b[0m\n\u001b[1;32m----> 5\u001b[1;33m \u001b[0mdendrogram\u001b[0m\u001b[1;33m(\u001b[0m\u001b[0mZ\u001b[0m\u001b[1;33m,\u001b[0m \u001b[0morientation\u001b[0m \u001b[1;33m=\u001b[0m \u001b[1;34m'top'\u001b[0m\u001b[1;33m,\u001b[0m \u001b[0mtruncate_mode\u001b[0m \u001b[1;33m=\u001b[0m \u001b[1;34m'lastp'\u001b[0m\u001b[1;33m,\u001b[0m \u001b[0mp\u001b[0m\u001b[1;33m=\u001b[0m\u001b[1;36m12\u001b[0m\u001b[1;33m,\u001b[0m \u001b[0mget_leaves\u001b[0m \u001b[1;33m=\u001b[0m \u001b[1;32mFalse\u001b[0m\u001b[1;33m,\u001b[0m \u001b[0mleaf_rotation\u001b[0m \u001b[1;33m=\u001b[0m \u001b[1;36m45\u001b[0m\u001b[1;33m,\u001b[0m \u001b[0mleaf_font_size\u001b[0m \u001b[1;33m=\u001b[0m \u001b[1;36m15\u001b[0m\u001b[1;33m,\u001b[0m \u001b[0mshow_contracted\u001b[0m \u001b[1;33m=\u001b[0m \u001b[1;32mTrue\u001b[0m\u001b[1;33m)\u001b[0m\u001b[1;33m\u001b[0m\u001b[1;33m\u001b[0m\u001b[0m\n\u001b[0m\u001b[0;32m      6\u001b[0m \u001b[0mplt\u001b[0m\u001b[1;33m.\u001b[0m\u001b[0mxlabel\u001b[0m\u001b[1;33m(\u001b[0m\u001b[1;34m'Cluster Size'\u001b[0m\u001b[1;33m,\u001b[0m \u001b[0mfontsize\u001b[0m \u001b[1;33m=\u001b[0m \u001b[1;36m30\u001b[0m\u001b[1;33m)\u001b[0m\u001b[1;33m\u001b[0m\u001b[1;33m\u001b[0m\u001b[0m\n\u001b[0;32m      7\u001b[0m \u001b[0mplt\u001b[0m\u001b[1;33m.\u001b[0m\u001b[0mylabel\u001b[0m\u001b[1;33m(\u001b[0m\u001b[1;34m'Distances'\u001b[0m\u001b[1;33m,\u001b[0m \u001b[0mfontsize\u001b[0m \u001b[1;33m=\u001b[0m \u001b[1;36m30\u001b[0m\u001b[1;33m)\u001b[0m\u001b[1;33m\u001b[0m\u001b[1;33m\u001b[0m\u001b[0m\n",
      "\u001b[1;32m~\\Anaconda3\\lib\\site-packages\\scipy\\cluster\\hierarchy.py\u001b[0m in \u001b[0;36mdendrogram\u001b[1;34m(Z, p, truncate_mode, color_threshold, get_leaves, orientation, labels, count_sort, distance_sort, show_leaf_counts, no_plot, no_labels, leaf_font_size, leaf_rotation, leaf_label_func, show_contracted, link_color_func, ax, above_threshold_color)\u001b[0m\n\u001b[0;32m   3371\u001b[0m                          above_threshold_color=above_threshold_color)\n\u001b[0;32m   3372\u001b[0m \u001b[1;33m\u001b[0m\u001b[0m\n\u001b[1;32m-> 3373\u001b[1;33m     \u001b[0mR\u001b[0m\u001b[1;33m[\u001b[0m\u001b[1;34m\"leaves_color_list\"\u001b[0m\u001b[1;33m]\u001b[0m \u001b[1;33m=\u001b[0m \u001b[0m_get_leaves_color_list\u001b[0m\u001b[1;33m(\u001b[0m\u001b[0mR\u001b[0m\u001b[1;33m)\u001b[0m\u001b[1;33m\u001b[0m\u001b[1;33m\u001b[0m\u001b[0m\n\u001b[0m\u001b[0;32m   3374\u001b[0m \u001b[1;33m\u001b[0m\u001b[0m\n\u001b[0;32m   3375\u001b[0m     \u001b[1;32mreturn\u001b[0m \u001b[0mR\u001b[0m\u001b[1;33m\u001b[0m\u001b[1;33m\u001b[0m\u001b[0m\n",
      "\u001b[1;32m~\\Anaconda3\\lib\\site-packages\\scipy\\cluster\\hierarchy.py\u001b[0m in \u001b[0;36m_get_leaves_color_list\u001b[1;34m(R)\u001b[0m\n\u001b[0;32m   3377\u001b[0m \u001b[1;33m\u001b[0m\u001b[0m\n\u001b[0;32m   3378\u001b[0m \u001b[1;32mdef\u001b[0m \u001b[0m_get_leaves_color_list\u001b[0m\u001b[1;33m(\u001b[0m\u001b[0mR\u001b[0m\u001b[1;33m)\u001b[0m\u001b[1;33m:\u001b[0m\u001b[1;33m\u001b[0m\u001b[1;33m\u001b[0m\u001b[0m\n\u001b[1;32m-> 3379\u001b[1;33m     \u001b[0mleaves_color_list\u001b[0m \u001b[1;33m=\u001b[0m \u001b[1;33m[\u001b[0m\u001b[1;32mNone\u001b[0m\u001b[1;33m]\u001b[0m \u001b[1;33m*\u001b[0m \u001b[0mlen\u001b[0m\u001b[1;33m(\u001b[0m\u001b[0mR\u001b[0m\u001b[1;33m[\u001b[0m\u001b[1;34m'leaves'\u001b[0m\u001b[1;33m]\u001b[0m\u001b[1;33m)\u001b[0m\u001b[1;33m\u001b[0m\u001b[1;33m\u001b[0m\u001b[0m\n\u001b[0m\u001b[0;32m   3380\u001b[0m     for link_x, link_y, link_color in zip(R['icoord'],\n\u001b[0;32m   3381\u001b[0m                                           \u001b[0mR\u001b[0m\u001b[1;33m[\u001b[0m\u001b[1;34m'dcoord'\u001b[0m\u001b[1;33m]\u001b[0m\u001b[1;33m,\u001b[0m\u001b[1;33m\u001b[0m\u001b[1;33m\u001b[0m\u001b[0m\n",
      "\u001b[1;31mTypeError\u001b[0m: object of type 'NoneType' has no len()"
     ]
    },
    {
     "data": {
      "image/png": "[encoded data removed]",
      "text/plain": [
       "<Figure size 1080x720 with 1 Axes>"
      ]
     },
     "metadata": {
      "needs_background": "light"
     },
     "output_type": "display_data"
    }
   ],
   "source": [
    "plt.figure(figsize = (15,10))\n",
    "Z = linkage(test[1000:], method='single')\n",
    "# print('Z-Shape:', Z.shape)\n",
    "plt.title('Single', size = 30)\n",
    "dendrogram(Z, orientation = 'top', truncate_mode = 'lastp', p=12, get_leaves = False, leaf_rotation = 45, leaf_font_size = 15, show_contracted = True)\n",
    "plt.xlabel('Cluster Size', fontsize = 30)\n",
    "plt.ylabel('Distances', fontsize = 30)\n",
    "plt.show();"
   ]
  },
  {
   "cell_type": "code",
   "execution_count": null,
   "metadata": {},
   "outputs": [],
   "source": []
  }
 ],
 "metadata": {
  "colab": {
   "collapsed_sections": [],
   "include_colab_link": true,
   "name": "Mahfuzur_K_Means Project.ipynb",
   "provenance": []
  },
  "kernelspec": {
   "display_name": "Python 3",
   "language": "python",
   "name": "python3"
  },
  "language_info": {
   "codemirror_mode": {
    "name": "ipython",
    "version": 3
   },
   "file_extension": ".py",
   "mimetype": "text/x-python",
   "name": "python",
   "nbconvert_exporter": "python",
   "pygments_lexer": "ipython3",
   "version": "3.8.8"
  }
 },
 "nbformat": 4,
 "nbformat_minor": 4
}
